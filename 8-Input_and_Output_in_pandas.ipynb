{
 "cells": [
  {
   "cell_type": "markdown",
   "metadata": {},
   "source": [
    "## Input and Output in pandas"
   ]
  },
  {
   "cell_type": "markdown",
   "metadata": {},
   "source": [
    "1-Pass a URL to the `pd.read_csv` Method\n",
    "\n",
    "2-Quick Object Conversions\n",
    "\n",
    "3-Export `DataFrame` to CSV File with the `.to_csv()` Method\n",
    "\n",
    "4-Import Excel File in Pandas\n",
    "\n",
    "5-Export Excel File\n",
    "\n",
    "6-to Load `JSON` String into Pandas DataFrame\n",
    "\n",
    "7-To Create JSON Object in Pandas\n",
    "\n",
    "8-Using PostgreSQL in Python (with Psycopg2)\n",
    "\n",
    "9-Inserting Information\n",
    "\n",
    "10-\n",
    "\n"
   ]
  },
  {
   "cell_type": "code",
   "execution_count": 1,
   "metadata": {},
   "outputs": [],
   "source": [
    "import pandas as pd\n",
    "import warnings\n",
    "warnings.filterwarnings(\"ignore\", category=FutureWarning)\n",
    "\n",
    "%config Completer.use_jedi = False"
   ]
  },
  {
   "cell_type": "markdown",
   "metadata": {},
   "source": [
    "### Pass a URL to the `pd.read_csv` Method"
   ]
  },
  {
   "cell_type": "markdown",
   "metadata": {},
   "source": [
    "The pd.read_csv method cannot only import local csv files located on the computer."
   ]
  },
  {
   "cell_type": "code",
   "execution_count": 2,
   "metadata": {},
   "outputs": [
    {
     "data": {
      "text/html": [
       "<div>\n",
       "<style scoped>\n",
       "    .dataframe tbody tr th:only-of-type {\n",
       "        vertical-align: middle;\n",
       "    }\n",
       "\n",
       "    .dataframe tbody tr th {\n",
       "        vertical-align: top;\n",
       "    }\n",
       "\n",
       "    .dataframe thead th {\n",
       "        text-align: right;\n",
       "    }\n",
       "</style>\n",
       "<table border=\"1\" class=\"dataframe\">\n",
       "  <thead>\n",
       "    <tr style=\"text-align: right;\">\n",
       "      <th></th>\n",
       "      <th>Year of Birth</th>\n",
       "      <th>Gender</th>\n",
       "      <th>Ethnicity</th>\n",
       "      <th>Child's First Name</th>\n",
       "      <th>Count</th>\n",
       "      <th>Rank</th>\n",
       "    </tr>\n",
       "  </thead>\n",
       "  <tbody>\n",
       "    <tr>\n",
       "      <th>0</th>\n",
       "      <td>2011</td>\n",
       "      <td>FEMALE</td>\n",
       "      <td>HISPANIC</td>\n",
       "      <td>GERALDINE</td>\n",
       "      <td>13</td>\n",
       "      <td>75</td>\n",
       "    </tr>\n",
       "    <tr>\n",
       "      <th>1</th>\n",
       "      <td>2011</td>\n",
       "      <td>FEMALE</td>\n",
       "      <td>HISPANIC</td>\n",
       "      <td>GIA</td>\n",
       "      <td>21</td>\n",
       "      <td>67</td>\n",
       "    </tr>\n",
       "    <tr>\n",
       "      <th>2</th>\n",
       "      <td>2011</td>\n",
       "      <td>FEMALE</td>\n",
       "      <td>HISPANIC</td>\n",
       "      <td>GIANNA</td>\n",
       "      <td>49</td>\n",
       "      <td>42</td>\n",
       "    </tr>\n",
       "    <tr>\n",
       "      <th>3</th>\n",
       "      <td>2011</td>\n",
       "      <td>FEMALE</td>\n",
       "      <td>HISPANIC</td>\n",
       "      <td>GISELLE</td>\n",
       "      <td>38</td>\n",
       "      <td>51</td>\n",
       "    </tr>\n",
       "    <tr>\n",
       "      <th>4</th>\n",
       "      <td>2011</td>\n",
       "      <td>FEMALE</td>\n",
       "      <td>HISPANIC</td>\n",
       "      <td>GRACE</td>\n",
       "      <td>36</td>\n",
       "      <td>53</td>\n",
       "    </tr>\n",
       "  </tbody>\n",
       "</table>\n",
       "</div>"
      ],
      "text/plain": [
       "   Year of Birth  Gender Ethnicity Child's First Name  Count  Rank\n",
       "0           2011  FEMALE  HISPANIC          GERALDINE     13    75\n",
       "1           2011  FEMALE  HISPANIC                GIA     21    67\n",
       "2           2011  FEMALE  HISPANIC             GIANNA     49    42\n",
       "3           2011  FEMALE  HISPANIC            GISELLE     38    51\n",
       "4           2011  FEMALE  HISPANIC              GRACE     36    53"
      ]
     },
     "execution_count": 2,
     "metadata": {},
     "output_type": "execute_result"
    }
   ],
   "source": [
    "url = \"https://data.cityofnewyork.us/api/views/25th-nujf/rows.csv?accessType=DOWNLOAD\"\n",
    "baby_names = pd.read_csv(url)\n",
    "baby_names.head()"
   ]
  },
  {
   "cell_type": "markdown",
   "metadata": {},
   "source": [
    "### Quick Object Conversions"
   ]
  },
  {
   "cell_type": "code",
   "execution_count": 3,
   "metadata": {},
   "outputs": [
    {
     "data": {
      "text/html": [
       "<div>\n",
       "<style scoped>\n",
       "    .dataframe tbody tr th:only-of-type {\n",
       "        vertical-align: middle;\n",
       "    }\n",
       "\n",
       "    .dataframe tbody tr th {\n",
       "        vertical-align: top;\n",
       "    }\n",
       "\n",
       "    .dataframe thead th {\n",
       "        text-align: right;\n",
       "    }\n",
       "</style>\n",
       "<table border=\"1\" class=\"dataframe\">\n",
       "  <thead>\n",
       "    <tr style=\"text-align: right;\">\n",
       "      <th></th>\n",
       "      <th>Child's First Name</th>\n",
       "    </tr>\n",
       "  </thead>\n",
       "  <tbody>\n",
       "    <tr>\n",
       "      <th>0</th>\n",
       "      <td>GERALDINE</td>\n",
       "    </tr>\n",
       "    <tr>\n",
       "      <th>1</th>\n",
       "      <td>GIA</td>\n",
       "    </tr>\n",
       "    <tr>\n",
       "      <th>2</th>\n",
       "      <td>GIANNA</td>\n",
       "    </tr>\n",
       "    <tr>\n",
       "      <th>3</th>\n",
       "      <td>GISELLE</td>\n",
       "    </tr>\n",
       "    <tr>\n",
       "      <th>4</th>\n",
       "      <td>GRACE</td>\n",
       "    </tr>\n",
       "  </tbody>\n",
       "</table>\n",
       "</div>"
      ],
      "text/plain": [
       "  Child's First Name\n",
       "0          GERALDINE\n",
       "1                GIA\n",
       "2             GIANNA\n",
       "3            GISELLE\n",
       "4              GRACE"
      ]
     },
     "execution_count": 3,
     "metadata": {},
     "output_type": "execute_result"
    }
   ],
   "source": [
    "baby_names[\"Child's First Name\"].to_frame().head()"
   ]
  },
  {
   "cell_type": "code",
   "execution_count": 4,
   "metadata": {},
   "outputs": [],
   "source": [
    "baby_names[\"Child's First Name\"].tolist()\n",
    "Output = None"
   ]
  },
  {
   "cell_type": "code",
   "execution_count": 5,
   "metadata": {},
   "outputs": [],
   "source": [
    "baby_names[\"Child's First Name\"].to_dict()\n",
    "Output = None"
   ]
  },
  {
   "cell_type": "code",
   "execution_count": 6,
   "metadata": {},
   "outputs": [
    {
     "data": {
      "text/plain": [
       "'a!b!c'"
      ]
     },
     "execution_count": 6,
     "metadata": {},
     "output_type": "execute_result"
    }
   ],
   "source": [
    "\"!\".join([\"a\",\"b\",\"c\"])"
   ]
  },
  {
   "cell_type": "code",
   "execution_count": 7,
   "metadata": {},
   "outputs": [
    {
     "data": {
      "text/plain": [
       "\"Aahil, Aaliyah, Aarav, Aaron, Aarya, Aaryan, Aayan, Abby, Abdiel, Abdoul, Abdoulaye, Abdul, Abdullah, Abe, Abel, Abigail, Aboubacar, Abraham, Abrar, Abrielle, Abril, Ace, Ada, Adalynn, Adam, Adan, Addison, Adelaide, Adele, Adelina, Adeline, Adelyn, Aden, Adiel, Adina, Aditya, Adonis, Adrian, Adriana, Adrianna, Adriel, Adyan, Aharon, Ahmad, Ahmed, Ahnaf, Ahron, Ahuva, Aicha, Aidan, Aiden, Aileen, Aimee, Aisha, Aissata, Aissatou, Aitana, Aiza, Aizah, Akiva, Alaia, Alaina, Alan, Alana, Alani, Alanis, Alanna, Alayna, Alba, Albert, Alberto, Aldo, Aleah, Alec, Aleena, Alejandra, Alejandro, Aleksander, Aleksandra, Alessandra, Alessandro, Alessia, Alex, Alexa, Alexander, Alexandra, Alexandria, Alexia, Alexis, Alfred, Alfredo, Ali, Alia, Aliah, Alice, Alicia, Alijah, Alina, Alisa, Alisha, Alison, Alissa, Alisson, Aliyah, Aliza, Allan, Allen, Allison, Allyson, Alma, Alondra, Alonso, Alpha, Alston, Alter, Alvin, Alyson, Alyssa, Amadou, Amaia, Amalia, Amanda, Amani, Amar'E, Amara, Amare, Amari, Amaya, Amayah, Ambar, Amber, Amberly, Ameer, Amelia, Amelie, Amia, Amina, Aminata, Amir, Amira, Amirah, Amiya, Amiyah, Amrom, Amy, Ana, Anabel, Anabella, Anabelle, Anabia, Anahi, Anais, Analia, Ananya, Anas, Anastasia, Anaya, Anayah, Anderson, Andre, Andrea, Andres, Andrew, Andy, Angel, Angela, Angelica, Angelina, Angeline, Angelique, Angelo, Angely, Angie, Angus, Anika, Anisa, Anisha, Aniya, Aniyah, Anjali, Anna, Annabel, Annabella, Annabelle, Annalise, Anne, Annie, Annika, Anson, Anthony, Anton, Antonella, Antonia, Antonio, Anya, April, Arabella, Archer, Arden, Arely, Arham, Ari, Aria, Ariadna, Ariadne, Ariah, Arian, Ariana, Arianna, Arianny, Ariel, Ariela, Ariella, Arielle, Arisha, Ariyah, Arjun, Arlette, Arlo, Armaan, Armando, Armani, Aron, Arthur, Arturo, Arvin, Arya, Aryan, Arye, Aryeh, Asher, Ashley, Ashly, Ashton, Asia, Atara, Athena, Atticus, Aubree, Aubrey, Audrey, August, Augustus, Aurora, Austin, Autumn, Ava, Avery, Avi, Aviel, Avigail, Avital, Aviva, Avraham, Avril, Avrohom, Avrum, Awa, Axel, Aya, Ayaan, Ayala, Ayan, Ayanna, Ayat, Ayden, Aydin, Ayelet, Ayesha, Ayla, Ayleen, Aylin, Azaan, Azaria, Azariah, Aziza, Baila, Bailey, Barbara, Baruch, Basya, Batsheva, Batya, Beatrice, Beatrix, Beckett, Belen, Bella, Ben, Benjamin, Bennett, Benson, Bentzion, Benzion, Berish, Berl, Bethany, Bianca, Bintou, Binyamin, Binyomin, Blake, Blessing, Blima, Blimy, Bodhi, Bonnie, Boruch, Boubacar, Bowen, Bracha, Bradley, Brady, Brandon, Brayan, Brayden, Breindy, Brenda, Brendan, Bria, Brian, Briana, Brianna, Brianny, Bridget, Briella, Brielle, Brigitte, Britney, Brittany, Brody, Brooke, Brooklyn, Brooks, Bruce, Brucha, Bruchy, Bruno, Bryan, Bryanna, Bryant, Bryce, Brynn, Bryson, Byron, Caden, Caiden, Cairo, Caitlin, Caleb, Cali, Calvin, Camden, Cameron, Camila, Camilla, Camille, Camilo, Camren, Carina, Carla, Carlos, Carly, Carmelo, Carmen, Carmine, Carolina, Caroline, Carson, Carter, Casey, Cassandra, Cassidy, Cataleya, Catalina, Catherine, Cayden, Cecelia, Cecilia, Celeste, Celia, Celine, Cesar, Chace, Chad, Chaim, Chana, Chance, Chanel, Chanie, Chany, Charles, Charlie, Charlotte, Chase, Chava, Chavy, Chaya, Chelsea, Cheskel, Chesky, Cheyenne, Chiara, Chloe, Chris, Christian, Christina, Christine, Christopher, Christy, Cindy, Claire, Clara, Clark, Claudia, Clementine, Cleo, Cody, Cole, Colette, Colin, Colton, Connie, Connor, Conor, Cooper, Cora, Corey, Cormac, Cristian, Cristina, Cristofer, Cristopher, Crosby, Crystal, Cynthia, Cyrus, Dahlia, Daisy, Dakota, Daleyza, Dalia, Dallas, Damani, Damari, Damaris, Damian, Damien, Damon, Dana, Daniel, Daniela, Daniella, Danielle, Danna, Danny, Dante, Daphne, Daria, Dariel, Darius, Darren, Darwin, Dashiell, David, Dayana, Dean, Deborah, Declan, Delilah, Denis, Denise, Denisse, Dennis, Denzel, Dereck, Derek, Derick, Derrick, Desmond, Destiny, Devin, Devon, Devora, Devorah, Diana, Diego, Dilan, Dillon, Dina, Diya, Diyora, Dominic, Dominick, Donovan, Doris, Dov, Dovid, Drew, Dulce, Duvid, Dwayne, Dylan, Ean, Eason, Eddie, Eddy, Eden, Edgar, Edison, Edith, Eduardo, Edward, Edwin, Efraim, Egypt, Eileen, Eitan, Elaine, Elan, Eleanor, Elena, Eleni, Eli, Eliam, Elian, Eliana, Elianna, Elianny, Elias, Eliel, Eliezer, Elijah, Elimelech, Elina, Eliot, Elisa, Elise, Elisheva, Eliyahu, Eliza, Elizabeth, Ella, Elle, Elliana, Ellie, Elliot, Elliott, Ellis, Elodie, Eloise, Elsa, Eluzer, Elvin, Elvis, Elya, Emaan, Emani, Emanuel, Emely, Emerson, Emery, Emil, Emilia, Emiliano, Emilio, Emily, Emma, Emmanuel, Emmeline, Emmett, Empress, Enrique, Enzo, Ephraim, Eric, Erica, Erick, Erik, Erika, Erin, Eshaal, Eshal, Eshan, Esme, Esmeralda, Essence, Esteban, Estelle, Ester, Esther, Estrella, Esty, Ethan, Etty, Eunice, Eva, Evan, Evangeline, Eve, Evelina, Evelyn, Everett, Everly, Evie, Eyad, Ezekiel, Ezequiel, Ezra, Ezriel, Fabian, Faiga, Faigy, Faith, Fanta, Farah, Farhan, Farida, Fatima, Fatou, Fatoumata, Felipe, Felix, Fernanda, Fernando, Feynman, Filip, Finley, Finn, Fiona, Fishel, Fradel, Frady, Fraidy, Frances, Francesca, Francesco, Francis, Francisco, Frank, Franklin, Freddy, Frederick, Freida, Freya, Frieda, Frimet, Gabriel, Gabriela, Gabriella, Gabrielle, Gael, Gaia, Galilea, Gary, Gavin, Gavriel, Gemma, Genesis, Genevieve, George, Georgia, Geraldine, Gerard, Gerardo, Gia, Giada, Giancarlo, Gianluca, Gianna, Gianni, Gideon, Giovani, Giovanna, Giovanni, Giovanny, Giselle, Gittel, Gitty, Giulia, Giuliana, Giuseppe, Golda, Goldie, Goldy, Gordon, Grace, Graham, Grant, Grayson, Gregory, Greta, Greyson, Griffin, Guadalupe, Gustavo, Guy, Gwendolyn, Hadassa, Hadassah, Hadley, Hafsa, Hailey, Hailie, Haley, Hamza, Hana, Haniya, Hanley, Hanna, Hannah, Hao, Hareem, Harley, Harlow, Harmony, Harper, Harrison, Harry, Harvey, Hashim, Hassan, Hawa, Hayden, Haylee, Hayley, Hazel, Heaven, Hector, Heidi, Heidy, Helen, Helena, Henchy, Henny, Henry, Herman, Hersh, Hershel, Hershy, Hillel, Hinda, Hindy, Hoorain, Hope, Hudson, Hugo, Hunter, Ian, Ibrahim, Ibrahima, Idy, Iker, Ilan, Ilana, Imani, Imogen, Imran, Inaaya, Inaya, Ines, Ingrid, Irene, Iris, Isaac, Isabel, Isabela, Isabella, Isabelle, Isaiah, Isaias, Ishaan, Ishmael, Isiah, Isis, Isla, Ismael, Israel, Issac, Itzel, Ivan, Ivanna, Ivy, Izabella, Izaiah, Jabari, Jace, Jack, Jackson, Jacky, Jacob, Jacqueline, Jad, Jada, Jade, Jaden, Jadiel, Jael, Jaelyn, Jaelynn, Jaheim, Jahir, Jahmir, Jaiden, Jaime, Jair, Jake, Jakub, Jalen, Jaliyah, Jamal, Jamar, Jamari, Jamel, James, Jameson, Jamie, Jamir, Jana, Janae, Jane, Janelle, Janice, Janiel, Janiya, Janiyah, Jannat, Jannatul, Januel, Jared, Jariel, Jasiah, Jaslene, Jasmin, Jasmina, Jasmine, Jason, Jasper, Javier, Jax, Jaxon, Jaxson, Jay, Jayce, Jayceon, Jaycob, Jayda, Jayden, Jayla, Jaylah, Jaylee, Jayleen, Jaylen, Jaylene, Jaylin, Jaylyn, Jayren, Jayson, Jazlyn, Jazmin, Jazmine, Jazzlyn, Jean, Jeancarlos, Jefferson, Jeffrey, Jelani, Jencarlos, Jenna, Jennifer, Jenny, Jeremiah, Jeremias, Jeremy, Jermaine, Jerry, Jesse, Jessica, Jessie, Jesus, Jia, Jimena, Jimmy, Joanna, Joaquin, Jocelyn, Joel, Johan, Johann, Johanna, John, Johnathan, Johnny, Jolie, Jolin, Jonael, Jonah, Jonas, Jonathan, Jordan, Jordi, Jordyn, Jorge, Jose, Josef, Joselyn, Joseph, Josephine, Joshua, Josiah, Josie, Josue, Journee, Journey, Joy, Joyce, Joziah, Juan, Judah, Jude, Judy, Julia, Julian, Juliana, Julianna, Julie, Julien, Juliet, Juliette, Julio, Julissa, Julius, Jun, June, Junior, Juniper, Justice, Justin, Kabir, Kacper, Kaden, Kadiatou, Kaelyn, Kai, Kaia, Kaiden, Kailee, Kailey, Kailyn, Kaitlyn, Kaleb, Kali, Kaliyah, Kamari, Kameron, Kamila, Kamiyah, Kamren, Karas, Kareem, Karen, Karina, Karla, Karter, Kassandra, Kate, Katelyn, Katelynn, Katerina, Katherine, Kathryn, Katie, Kaya, Kayden, Kayla, Kaylani, Kaylee, Kayleen, Kayleigh, Kaylie, Kaylin, Kayson, Kazi, Kehlani, Keila, Keily, Keira, Keith, Kelly, Kelsey, Kelvin, Kendra, Kendrick, Kennedi, Kennedy, Kenneth, Kenny, Kenya, Kevin, Keyla, Khadija, Khadijah, Khaleesi, Khalil, Khloe, Kian, Kiara, Kiera, Kieran, Kimberly, Kimi, Kimora, King, Kingsley, Kingston, Kira, Kiyan, Kori, Kourtney, Krish, Kristen, Kristian, Kristina, Krystal, Kyla, Kyle, Kylee, Kylie, Kymani, Kyree, Kyrie, Kyson, Laila, Lailah, Laith, Lamar, Lana, Landon, Lara, Larry, Laura, Lauren, Lauryn, Lawrence, Layan, Layla, Lazer, Lea, Leah, Leandro, Leanna, Leela, Legend, Leia, Leibish, Leila, Leilani, Leilany, Lena, Lenny, Leo, Leon, Leona, Leonard, Leonardo, Leonel, Leonidas, Leora, Lesley, Leslie, Lesly, Lev, Levi, Leyla, Lia, Liam, Lian, Liana, Liba, Libby, Lielle, Lila, Lilah, Lilia, Lilian, Liliana, Lillian, Lilliana, Lilly, Lily, Lina, Lincoln, Linda, Lindsay, Lionel, Liora, Lipa, Lisa, Litzy, Liv, Livia, Liz, Lizbeth, Lizeth, Logan, Lola, London, Londyn, Lorenzo, Louis, Louisa, Louise, Luca, Lucas, Lucia, Lucian, Luciana, Lucien, Lucille, Lucy, Luis, Luka, Lukas, Luke, Luna, Luz, Lydia, Lyla, Lyric, Mabel, Mackenzie, Maddox, Madeleine, Madeline, Madelyn, Madina, Madison, Madisyn, Mae, Maeve, Magaly, Maggie, Mahamadou, Mahnoor, Maia, Maimouna, Maisie, Maison, Maite, Major, Makai, Makayla, Makenzie, Makhi, Maksim, Malachi, Malak, Malaysia, Malcolm, Malek, Malia, Maliha, Malik, Malika, Maliyah, Malka, Malky, Mamadou, Mandy, Manha, Manuel, Marc, Marcel, Marcelo, Marco, Marcos, Marcus, Margaret, Margaux, Margot, Maria, Mariah, Mariam, Mariama, Mariana, Marie, Marielle, Marilyn, Marina, Mario, Marisol, Marjorie, Mark, Marley, Marlon, Marlowe, Marquis, Martin, Marvin, Mary, Maryam, Mason, Massimo, Mateo, Mathew, Mathias, Matias, Matilda, Matteo, Matthew, Matthias, Maurice, Mauricio, Maverick, Max, Maxim, Maximilian, Maximiliano, Maximo, Maximus, Maxwell, Maya, Mayer, Mayson, Mckenzie, Md, Mechel, Meera, Megan, Meilech, Meir, Mekhi, Melania, Melanie, Melany, Melina, Melissa, Melody, Melvin, Menachem, Menashe, Mendel, Mendy, Menucha, Meshilem, Messiah, Meyer, Mia, Miah, Micah, Michael, Michaela, Michal, Michelle, Miguel, Mika, Mikael, Mikaela, Mikayla, Mike, Mila, Milagros, Milan, Milana, Milani, Milania, Milena, Miles, Miley, Millie, Milo, Mina, Mindy, Mira, Miracle, Miranda, Mirel, Miri, Miriam, Misael, Mohamed, Mohammad, Mohammed, Moises, Moishe, Molly, Monica, Monserrat, Montserrat, Mordche, Mordechai, Morgan, Morris, Moses, Moshe, Motty, Mouhamed, Moussa, Muhammad, Musa, Mushka, Mustafa, Mya, Myles, Myra, Nabiha, Nachman, Nadia, Naftali, Naftuli, Nahla, Nala, Nalani, Nana, Nancy, Naomi, Nashla, Nashley, Nashly, Nasir, Natalia, Natalie, Nataly, Natasha, Nathalia, Nathalie, Nathaly, Nathan, Nathanael, Nathaniel, Nava, Nayeli, Nayla, Nazir, Nechama, Nehemiah, Neil, Nelson, Nevaeh, Neymar, Nia, Niam, Nicholas, Nico, Nicolas, Nicole, Nicolette, Nigel, Nikhil, Nikita, Nikolai, Nikolas, Nina, Noa, Noach, Noah, Noam, Noel, Noelle, Noemi, Nolan, Noor, Nora, Norah, Nosson, Nova, Nuchem, Nusrat, Nyah, Nyla, Nylah, Olive, Oliver, Olivia, Omar, Omari, Oren, Ori, Orion, Orlando, Oscar, Otis, Otto, Oumar, Oumou, Ousmane, Owen, Pablo, Paige, Pamela, Paola, Paris, Parker, Patrick, Paul, Paula, Payton, Pearl, Pedro, Penelope, Perel, Peretz, Perl, Perla, Perry, Pessy, Peter, Peyton, Philip, Phoebe, Phoenix, Pierce, Pinchas, Pinchus, Piper, Polina, Poppy, Precious, Preston, Prince, Princess, Princeton, Priscilla, Queena, Queenie, Quincy, Quinn, Rachel, Rafael, Rahaf, Raina, Raizel, Raizy, Ralph, Randy, Raphael, Raquel, Raul, Raya, Rayan, Raymond, Rayna, Rayyan, Reagan, Rebecca, Reed, Reem, Reese, Rehan, Reid, Reign, Reizy, Rena, Renata, Renee, Reuben, Reuven, Rhys, Ricardo, Richard, Ricky, Rifka, Rifky, Rihanna, Riley, Rina, Riva, River, Rivka, Rivkah, Rivky, Riya, Robert, Roberto, Rocco, Rochel, Rodney, Rodrigo, Roger, Rohan, Roiza, Roizy, Roman, Romeo, Romy, Ronald, Ronaldo, Ronan, Rory, Rosa, Rose, Roselyn, Rosemary, Rosie, Rowan, Roy, Royal, Royalty, Royce, Ruben, Ruby, Ruchel, Ruchy, Russell, Ruth, Ryan, Ryder, Rylee, Sabiha, Sabina, Sabrina, Sade, Sadie, Safa, Safwan, Sage, Saifan, Saige, Salma, Salome, Salvatore, Sam, Sama, Samaira, Samantha, Samara, Sami, Samir, Samira, Samiya, Samiyah, Samuel, Sanaa, Sanai, Sandra, Saniya, Saniyah, Santiago, Santino, Saoirse, Sara, Sarah, Sarahi, Sarai, Sari, Sariah, Sarina, Sariyah, Sasha, Saul, Savanna, Savannah, Savion, Sawyer, Scarlet, Scarlett, Sean, Sebastian, Sekou, Selena, Selim, Selina, Selma, Serena, Serenity, Sergio, Seth, Sevyn, Shaina, Shaindel, Shaindy, Shalom, Shane, Shania, Shaniya, Sharon, Shaul, Shawn, Shaya, Shayaan, Shayan, Shayla, Shayna, Shea, Sheldon, Sherlyn, Sherry, Shevy, Shia, Shifra, Shiloh, Shimon, Shira, Shirley, Shloime, Shloimy, Shloma, Shlome, Shlomo, Shmiel, Shmuel, Shneur, Sholom, Shoshana, Shraga, Shreya, Shulem, Sidney, Siena, Sienna, Silas, Sima, Simcha, Simi, Simon, Simone, Sincere, Sky, Skye, Skyla, Skylah, Skylar, Skyler, Sloane, Sofia, Solomon, Sonia, Sophia, Sophie, Soraya, Spencer, Stacey, Stacy, Stanley, Stella, Stephanie, Stephany, Stephen, Steve, Steven, Subhan, Sulaiman, Summer, Sunny, Suri, Sury, Sydney, Syed, Syeda, Sylvia, Sylvie, Symphony, Tabitha, Tahmid, Talia, Taliyah, Tamar, Tamara, Tamia, Tanisha, Taraji, Tasnim, Tatiana, Taylor, Teagan, Tehila, Tenzin, Terrell, Terrence, Terry, Tess, Tessa, Thea, Theo, Theodora, Theodore, Thiago, Thomas, Tiana, Tianna, Tiffany, Timothy, Timur, Tina, Toba, Tobias, Toby, Tomas, Tony, Tori, Tova, Trany, Travis, Trinity, Tristan, Troy, Tyler, Tzipora, Tziporah, Tzippy, Tzirel, Tzivia, Tzvi, Umar, Uriel, Usher, Valentina, Valentino, Valeria, Valerie, Valery, Vanessa, Veer, Vera, Veronica, Veronika, Vicky, Victor, Victoria, Vienna, Vihaan, Vincent, Vincenzo, Violet, Violeta, Virginia, Vivian, Viviana, Vivienne, Walker, Walter, Wendy, Wesley, Weston, Willa, William, Willow, Wilson, Winnie, Winston, Winter, Wolf, Wyatt, Wynter, Xander, Xavier, Ximena, Xin, Yaakov, Yachet, Yadiel, Yael, Yahir, Yahya, Yair, Yakov, Yamilet, Yamileth, Yandel, Yaniel, Yanky, Yara, Yaretzi, Yariel, Yaritza, Yaseen, Yasmin, Yasmina, Yasmine, Yassin, Yechezkel, Yechiel, Yehoshua, Yehuda, Yehudah, Yehudis, Yerik, Yesenia, Yeshaya, Yida, Yidel, Yides, Yisrael, Yisroel, Yitta, Yitty, Yitzchak, Yitzchok, Yocheved, Yoel, Yona, Yonah, Yonatan, Yosef, Yossi, Yousef, Youssef, Yu, Yuna, Yusuf, Zabdiel, Zachariah, Zachary, Zahara, Zahir, Zahra, Zaiden, Zain, Zainab, Zaire, Zakaria, Zalmen, Zamir, Zander, Zane, Zaniyah, Zara, Zaria, Zariah, Zayan, Zayden, Zayn, Zelda, Zendaya, Zev, Zion, Zissy, Zoe, Zoey, Zoya, Zuri, Zyaire\""
      ]
     },
     "execution_count": 7,
     "metadata": {},
     "output_type": "execute_result"
    }
   ],
   "source": [
    "\", \".join(baby_names[\"Child's First Name\"].str.title().drop_duplicates().sort_values())"
   ]
  },
  {
   "cell_type": "markdown",
   "metadata": {},
   "source": [
    "### Export `DataFrame` to CSV File with the `.to_csv()` Method"
   ]
  },
  {
   "cell_type": "code",
   "execution_count": 8,
   "metadata": {},
   "outputs": [
    {
     "data": {
      "text/html": [
       "<div>\n",
       "<style scoped>\n",
       "    .dataframe tbody tr th:only-of-type {\n",
       "        vertical-align: middle;\n",
       "    }\n",
       "\n",
       "    .dataframe tbody tr th {\n",
       "        vertical-align: top;\n",
       "    }\n",
       "\n",
       "    .dataframe thead th {\n",
       "        text-align: right;\n",
       "    }\n",
       "</style>\n",
       "<table border=\"1\" class=\"dataframe\">\n",
       "  <thead>\n",
       "    <tr style=\"text-align: right;\">\n",
       "      <th></th>\n",
       "      <th>Year of Birth</th>\n",
       "      <th>Gender</th>\n",
       "      <th>Ethnicity</th>\n",
       "      <th>Child's First Name</th>\n",
       "      <th>Count</th>\n",
       "      <th>Rank</th>\n",
       "    </tr>\n",
       "  </thead>\n",
       "  <tbody>\n",
       "    <tr>\n",
       "      <th>0</th>\n",
       "      <td>2011</td>\n",
       "      <td>FEMALE</td>\n",
       "      <td>HISPANIC</td>\n",
       "      <td>GERALDINE</td>\n",
       "      <td>13</td>\n",
       "      <td>75</td>\n",
       "    </tr>\n",
       "    <tr>\n",
       "      <th>1</th>\n",
       "      <td>2011</td>\n",
       "      <td>FEMALE</td>\n",
       "      <td>HISPANIC</td>\n",
       "      <td>GIA</td>\n",
       "      <td>21</td>\n",
       "      <td>67</td>\n",
       "    </tr>\n",
       "    <tr>\n",
       "      <th>2</th>\n",
       "      <td>2011</td>\n",
       "      <td>FEMALE</td>\n",
       "      <td>HISPANIC</td>\n",
       "      <td>GIANNA</td>\n",
       "      <td>49</td>\n",
       "      <td>42</td>\n",
       "    </tr>\n",
       "    <tr>\n",
       "      <th>3</th>\n",
       "      <td>2011</td>\n",
       "      <td>FEMALE</td>\n",
       "      <td>HISPANIC</td>\n",
       "      <td>GISELLE</td>\n",
       "      <td>38</td>\n",
       "      <td>51</td>\n",
       "    </tr>\n",
       "    <tr>\n",
       "      <th>4</th>\n",
       "      <td>2011</td>\n",
       "      <td>FEMALE</td>\n",
       "      <td>HISPANIC</td>\n",
       "      <td>GRACE</td>\n",
       "      <td>36</td>\n",
       "      <td>53</td>\n",
       "    </tr>\n",
       "  </tbody>\n",
       "</table>\n",
       "</div>"
      ],
      "text/plain": [
       "   Year of Birth  Gender Ethnicity Child's First Name  Count  Rank\n",
       "0           2011  FEMALE  HISPANIC          GERALDINE     13    75\n",
       "1           2011  FEMALE  HISPANIC                GIA     21    67\n",
       "2           2011  FEMALE  HISPANIC             GIANNA     49    42\n",
       "3           2011  FEMALE  HISPANIC            GISELLE     38    51\n",
       "4           2011  FEMALE  HISPANIC              GRACE     36    53"
      ]
     },
     "execution_count": 8,
     "metadata": {},
     "output_type": "execute_result"
    }
   ],
   "source": [
    "url = \"https://data.cityofnewyork.us/api/views/25th-nujf/rows.csv?accessType=DOWNLOAD\"\n",
    "baby_names = pd.read_csv(url)\n",
    "baby_names.head()"
   ]
  },
  {
   "cell_type": "code",
   "execution_count": 9,
   "metadata": {},
   "outputs": [],
   "source": [
    "baby_names.to_csv(\"NYC_Baby_Names.csv\", index = False, columns = [\"Gender\", \"Ethnicity\",\"Child's First Name\"],\n",
    "                 encoding = \"utf-8\") "
   ]
  },
  {
   "cell_type": "markdown",
   "metadata": {},
   "source": [
    "We can see the output in our jupyter lab files. "
   ]
  },
  {
   "cell_type": "markdown",
   "metadata": {},
   "source": [
    "### Import Excel File in Pandas"
   ]
  },
  {
   "cell_type": "code",
   "execution_count": 10,
   "metadata": {},
   "outputs": [
    {
     "data": {
      "text/html": [
       "<div>\n",
       "<style scoped>\n",
       "    .dataframe tbody tr th:only-of-type {\n",
       "        vertical-align: middle;\n",
       "    }\n",
       "\n",
       "    .dataframe tbody tr th {\n",
       "        vertical-align: top;\n",
       "    }\n",
       "\n",
       "    .dataframe thead th {\n",
       "        text-align: right;\n",
       "    }\n",
       "</style>\n",
       "<table border=\"1\" class=\"dataframe\">\n",
       "  <thead>\n",
       "    <tr style=\"text-align: right;\">\n",
       "      <th></th>\n",
       "      <th>First Name</th>\n",
       "      <th>Last Name</th>\n",
       "      <th>City</th>\n",
       "      <th>Gender</th>\n",
       "    </tr>\n",
       "  </thead>\n",
       "  <tbody>\n",
       "    <tr>\n",
       "      <th>0</th>\n",
       "      <td>Brandon</td>\n",
       "      <td>James</td>\n",
       "      <td>Miami</td>\n",
       "      <td>M</td>\n",
       "    </tr>\n",
       "    <tr>\n",
       "      <th>1</th>\n",
       "      <td>Sean</td>\n",
       "      <td>Hawkins</td>\n",
       "      <td>Denver</td>\n",
       "      <td>M</td>\n",
       "    </tr>\n",
       "    <tr>\n",
       "      <th>2</th>\n",
       "      <td>Judy</td>\n",
       "      <td>Day</td>\n",
       "      <td>Los Angeles</td>\n",
       "      <td>F</td>\n",
       "    </tr>\n",
       "    <tr>\n",
       "      <th>3</th>\n",
       "      <td>Ashley</td>\n",
       "      <td>Ruiz</td>\n",
       "      <td>San Francisco</td>\n",
       "      <td>F</td>\n",
       "    </tr>\n",
       "    <tr>\n",
       "      <th>4</th>\n",
       "      <td>Stephanie</td>\n",
       "      <td>Gomez</td>\n",
       "      <td>Portland</td>\n",
       "      <td>F</td>\n",
       "    </tr>\n",
       "  </tbody>\n",
       "</table>\n",
       "</div>"
      ],
      "text/plain": [
       "  First Name Last Name           City Gender\n",
       "0    Brandon     James          Miami      M\n",
       "1       Sean   Hawkins         Denver      M\n",
       "2       Judy       Day    Los Angeles      F\n",
       "3     Ashley      Ruiz  San Francisco      F\n",
       "4  Stephanie     Gomez       Portland      F"
      ]
     },
     "execution_count": 10,
     "metadata": {},
     "output_type": "execute_result"
    }
   ],
   "source": [
    "df = pd.read_excel(\"files/Data - Single Worksheet.xlsx\")\n",
    "df"
   ]
  },
  {
   "cell_type": "code",
   "execution_count": 11,
   "metadata": {},
   "outputs": [
    {
     "data": {
      "text/html": [
       "<div>\n",
       "<style scoped>\n",
       "    .dataframe tbody tr th:only-of-type {\n",
       "        vertical-align: middle;\n",
       "    }\n",
       "\n",
       "    .dataframe tbody tr th {\n",
       "        vertical-align: top;\n",
       "    }\n",
       "\n",
       "    .dataframe thead th {\n",
       "        text-align: right;\n",
       "    }\n",
       "</style>\n",
       "<table border=\"1\" class=\"dataframe\">\n",
       "  <thead>\n",
       "    <tr style=\"text-align: right;\">\n",
       "      <th></th>\n",
       "      <th>First Name</th>\n",
       "      <th>Last Name</th>\n",
       "      <th>City</th>\n",
       "      <th>Gender</th>\n",
       "    </tr>\n",
       "  </thead>\n",
       "  <tbody>\n",
       "    <tr>\n",
       "      <th>0</th>\n",
       "      <td>Brandon</td>\n",
       "      <td>James</td>\n",
       "      <td>Miami</td>\n",
       "      <td>M</td>\n",
       "    </tr>\n",
       "    <tr>\n",
       "      <th>1</th>\n",
       "      <td>Sean</td>\n",
       "      <td>Hawkins</td>\n",
       "      <td>Denver</td>\n",
       "      <td>M</td>\n",
       "    </tr>\n",
       "    <tr>\n",
       "      <th>2</th>\n",
       "      <td>Judy</td>\n",
       "      <td>Day</td>\n",
       "      <td>Los Angeles</td>\n",
       "      <td>F</td>\n",
       "    </tr>\n",
       "    <tr>\n",
       "      <th>3</th>\n",
       "      <td>Ashley</td>\n",
       "      <td>Ruiz</td>\n",
       "      <td>San Francisco</td>\n",
       "      <td>F</td>\n",
       "    </tr>\n",
       "    <tr>\n",
       "      <th>4</th>\n",
       "      <td>Stephanie</td>\n",
       "      <td>Gomez</td>\n",
       "      <td>Portland</td>\n",
       "      <td>F</td>\n",
       "    </tr>\n",
       "  </tbody>\n",
       "</table>\n",
       "</div>"
      ],
      "text/plain": [
       "  First Name Last Name           City Gender\n",
       "0    Brandon     James          Miami      M\n",
       "1       Sean   Hawkins         Denver      M\n",
       "2       Judy       Day    Los Angeles      F\n",
       "3     Ashley      Ruiz  San Francisco      F\n",
       "4  Stephanie     Gomez       Portland      F"
      ]
     },
     "execution_count": 11,
     "metadata": {},
     "output_type": "execute_result"
    }
   ],
   "source": [
    "pd.read_excel(\"files/Data - Multiple Worksheets.xlsx\", sheet_name = 0) #sheet_name = \"Data 1\" does same thing."
   ]
  },
  {
   "cell_type": "code",
   "execution_count": 12,
   "metadata": {},
   "outputs": [
    {
     "data": {
      "text/html": [
       "<div>\n",
       "<style scoped>\n",
       "    .dataframe tbody tr th:only-of-type {\n",
       "        vertical-align: middle;\n",
       "    }\n",
       "\n",
       "    .dataframe tbody tr th {\n",
       "        vertical-align: top;\n",
       "    }\n",
       "\n",
       "    .dataframe thead th {\n",
       "        text-align: right;\n",
       "    }\n",
       "</style>\n",
       "<table border=\"1\" class=\"dataframe\">\n",
       "  <thead>\n",
       "    <tr style=\"text-align: right;\">\n",
       "      <th></th>\n",
       "      <th>First Name</th>\n",
       "      <th>Last Name</th>\n",
       "      <th>City</th>\n",
       "      <th>Gender</th>\n",
       "    </tr>\n",
       "  </thead>\n",
       "  <tbody>\n",
       "    <tr>\n",
       "      <th>0</th>\n",
       "      <td>Parker</td>\n",
       "      <td>Power</td>\n",
       "      <td>Raleigh</td>\n",
       "      <td>F</td>\n",
       "    </tr>\n",
       "    <tr>\n",
       "      <th>1</th>\n",
       "      <td>Preston</td>\n",
       "      <td>Prescott</td>\n",
       "      <td>Philadelphia</td>\n",
       "      <td>F</td>\n",
       "    </tr>\n",
       "    <tr>\n",
       "      <th>2</th>\n",
       "      <td>Ronaldo</td>\n",
       "      <td>Donaldo</td>\n",
       "      <td>Bangor</td>\n",
       "      <td>M</td>\n",
       "    </tr>\n",
       "    <tr>\n",
       "      <th>3</th>\n",
       "      <td>Megan</td>\n",
       "      <td>Stiller</td>\n",
       "      <td>San Francisco</td>\n",
       "      <td>M</td>\n",
       "    </tr>\n",
       "    <tr>\n",
       "      <th>4</th>\n",
       "      <td>Bustin</td>\n",
       "      <td>Jieber</td>\n",
       "      <td>Austin</td>\n",
       "      <td>F</td>\n",
       "    </tr>\n",
       "  </tbody>\n",
       "</table>\n",
       "</div>"
      ],
      "text/plain": [
       "  First Name Last Name           City Gender\n",
       "0     Parker     Power        Raleigh      F\n",
       "1    Preston  Prescott   Philadelphia      F\n",
       "2    Ronaldo   Donaldo         Bangor      M\n",
       "3      Megan   Stiller  San Francisco      M\n",
       "4     Bustin    Jieber         Austin      F"
      ]
     },
     "execution_count": 12,
     "metadata": {},
     "output_type": "execute_result"
    }
   ],
   "source": [
    "pd.read_excel(\"files/Data - Multiple Worksheets.xlsx\", sheet_name = 1) #sheet_name = \"Data 2\" does same thing."
   ]
  },
  {
   "cell_type": "markdown",
   "metadata": {},
   "source": [
    "If an Excel workbook has multiple worksheets, what data structure will Pandas store the resulting DataFrames in Dictionary. The keys will be the spreadsheet names / index positions and the values will be the DataFrames holding the worksheet's data"
   ]
  },
  {
   "cell_type": "code",
   "execution_count": 13,
   "metadata": {},
   "outputs": [
    {
     "data": {
      "text/plain": [
       "{0:   First Name Last Name           City Gender\n",
       " 0    Brandon     James          Miami      M\n",
       " 1       Sean   Hawkins         Denver      M\n",
       " 2       Judy       Day    Los Angeles      F\n",
       " 3     Ashley      Ruiz  San Francisco      F\n",
       " 4  Stephanie     Gomez       Portland      F,\n",
       " 1:   First Name Last Name           City Gender\n",
       " 0     Parker     Power        Raleigh      F\n",
       " 1    Preston  Prescott   Philadelphia      F\n",
       " 2    Ronaldo   Donaldo         Bangor      M\n",
       " 3      Megan   Stiller  San Francisco      M\n",
       " 4     Bustin    Jieber         Austin      F}"
      ]
     },
     "execution_count": 13,
     "metadata": {},
     "output_type": "execute_result"
    }
   ],
   "source": [
    "#it call two sheets:\n",
    "\n",
    "data = pd.read_excel(\"files/Data - Multiple Worksheets.xlsx\", sheet_name = [0,1]) # or sheet_name = [\"Data 1\",\"Data 2\"]\n",
    "data"
   ]
  },
  {
   "cell_type": "code",
   "execution_count": 14,
   "metadata": {},
   "outputs": [
    {
     "data": {
      "text/plain": [
       "dict"
      ]
     },
     "execution_count": 14,
     "metadata": {},
     "output_type": "execute_result"
    }
   ],
   "source": [
    "type(data)"
   ]
  },
  {
   "cell_type": "code",
   "execution_count": 15,
   "metadata": {},
   "outputs": [
    {
     "data": {
      "text/html": [
       "<div>\n",
       "<style scoped>\n",
       "    .dataframe tbody tr th:only-of-type {\n",
       "        vertical-align: middle;\n",
       "    }\n",
       "\n",
       "    .dataframe tbody tr th {\n",
       "        vertical-align: top;\n",
       "    }\n",
       "\n",
       "    .dataframe thead th {\n",
       "        text-align: right;\n",
       "    }\n",
       "</style>\n",
       "<table border=\"1\" class=\"dataframe\">\n",
       "  <thead>\n",
       "    <tr style=\"text-align: right;\">\n",
       "      <th></th>\n",
       "      <th>First Name</th>\n",
       "      <th>Last Name</th>\n",
       "      <th>City</th>\n",
       "      <th>Gender</th>\n",
       "    </tr>\n",
       "  </thead>\n",
       "  <tbody>\n",
       "    <tr>\n",
       "      <th>0</th>\n",
       "      <td>Brandon</td>\n",
       "      <td>James</td>\n",
       "      <td>Miami</td>\n",
       "      <td>M</td>\n",
       "    </tr>\n",
       "    <tr>\n",
       "      <th>1</th>\n",
       "      <td>Sean</td>\n",
       "      <td>Hawkins</td>\n",
       "      <td>Denver</td>\n",
       "      <td>M</td>\n",
       "    </tr>\n",
       "    <tr>\n",
       "      <th>2</th>\n",
       "      <td>Judy</td>\n",
       "      <td>Day</td>\n",
       "      <td>Los Angeles</td>\n",
       "      <td>F</td>\n",
       "    </tr>\n",
       "    <tr>\n",
       "      <th>3</th>\n",
       "      <td>Ashley</td>\n",
       "      <td>Ruiz</td>\n",
       "      <td>San Francisco</td>\n",
       "      <td>F</td>\n",
       "    </tr>\n",
       "    <tr>\n",
       "      <th>4</th>\n",
       "      <td>Stephanie</td>\n",
       "      <td>Gomez</td>\n",
       "      <td>Portland</td>\n",
       "      <td>F</td>\n",
       "    </tr>\n",
       "  </tbody>\n",
       "</table>\n",
       "</div>"
      ],
      "text/plain": [
       "  First Name Last Name           City Gender\n",
       "0    Brandon     James          Miami      M\n",
       "1       Sean   Hawkins         Denver      M\n",
       "2       Judy       Day    Los Angeles      F\n",
       "3     Ashley      Ruiz  San Francisco      F\n",
       "4  Stephanie     Gomez       Portland      F"
      ]
     },
     "execution_count": 15,
     "metadata": {},
     "output_type": "execute_result"
    }
   ],
   "source": [
    "# if we want to call just one sheet in dataframe we should say dict index number:\n",
    "\n",
    "data[0] # or data[\"Data 1\"]"
   ]
  },
  {
   "cell_type": "code",
   "execution_count": 16,
   "metadata": {},
   "outputs": [
    {
     "data": {
      "text/plain": [
       "{'Data 1':   First Name Last Name           City Gender\n",
       " 0    Brandon     James          Miami      M\n",
       " 1       Sean   Hawkins         Denver      M\n",
       " 2       Judy       Day    Los Angeles      F\n",
       " 3     Ashley      Ruiz  San Francisco      F\n",
       " 4  Stephanie     Gomez       Portland      F,\n",
       " 'Data 2':   First Name Last Name           City Gender\n",
       " 0     Parker     Power        Raleigh      F\n",
       " 1    Preston  Prescott   Philadelphia      F\n",
       " 2    Ronaldo   Donaldo         Bangor      M\n",
       " 3      Megan   Stiller  San Francisco      M\n",
       " 4     Bustin    Jieber         Austin      F}"
      ]
     },
     "execution_count": 16,
     "metadata": {},
     "output_type": "execute_result"
    }
   ],
   "source": [
    "# sheet_name = None: it imports everything.\n",
    "\n",
    "data = pd.read_excel(\"files/Data - Multiple Worksheets.xlsx\", sheet_name = None)\n",
    "data"
   ]
  },
  {
   "cell_type": "markdown",
   "metadata": {},
   "source": [
    "### Export Excel File"
   ]
  },
  {
   "cell_type": "code",
   "execution_count": 17,
   "metadata": {},
   "outputs": [
    {
     "data": {
      "text/html": [
       "<div>\n",
       "<style scoped>\n",
       "    .dataframe tbody tr th:only-of-type {\n",
       "        vertical-align: middle;\n",
       "    }\n",
       "\n",
       "    .dataframe tbody tr th {\n",
       "        vertical-align: top;\n",
       "    }\n",
       "\n",
       "    .dataframe thead th {\n",
       "        text-align: right;\n",
       "    }\n",
       "</style>\n",
       "<table border=\"1\" class=\"dataframe\">\n",
       "  <thead>\n",
       "    <tr style=\"text-align: right;\">\n",
       "      <th></th>\n",
       "      <th>Year of Birth</th>\n",
       "      <th>Gender</th>\n",
       "      <th>Ethnicity</th>\n",
       "      <th>Child's First Name</th>\n",
       "      <th>Count</th>\n",
       "      <th>Rank</th>\n",
       "    </tr>\n",
       "  </thead>\n",
       "  <tbody>\n",
       "    <tr>\n",
       "      <th>0</th>\n",
       "      <td>2011</td>\n",
       "      <td>FEMALE</td>\n",
       "      <td>HISPANIC</td>\n",
       "      <td>GERALDINE</td>\n",
       "      <td>13</td>\n",
       "      <td>75</td>\n",
       "    </tr>\n",
       "    <tr>\n",
       "      <th>1</th>\n",
       "      <td>2011</td>\n",
       "      <td>FEMALE</td>\n",
       "      <td>HISPANIC</td>\n",
       "      <td>GIA</td>\n",
       "      <td>21</td>\n",
       "      <td>67</td>\n",
       "    </tr>\n",
       "    <tr>\n",
       "      <th>2</th>\n",
       "      <td>2011</td>\n",
       "      <td>FEMALE</td>\n",
       "      <td>HISPANIC</td>\n",
       "      <td>GIANNA</td>\n",
       "      <td>49</td>\n",
       "      <td>42</td>\n",
       "    </tr>\n",
       "    <tr>\n",
       "      <th>3</th>\n",
       "      <td>2011</td>\n",
       "      <td>FEMALE</td>\n",
       "      <td>HISPANIC</td>\n",
       "      <td>GISELLE</td>\n",
       "      <td>38</td>\n",
       "      <td>51</td>\n",
       "    </tr>\n",
       "    <tr>\n",
       "      <th>4</th>\n",
       "      <td>2011</td>\n",
       "      <td>FEMALE</td>\n",
       "      <td>HISPANIC</td>\n",
       "      <td>GRACE</td>\n",
       "      <td>36</td>\n",
       "      <td>53</td>\n",
       "    </tr>\n",
       "  </tbody>\n",
       "</table>\n",
       "</div>"
      ],
      "text/plain": [
       "   Year of Birth  Gender Ethnicity Child's First Name  Count  Rank\n",
       "0           2011  FEMALE  HISPANIC          GERALDINE     13    75\n",
       "1           2011  FEMALE  HISPANIC                GIA     21    67\n",
       "2           2011  FEMALE  HISPANIC             GIANNA     49    42\n",
       "3           2011  FEMALE  HISPANIC            GISELLE     38    51\n",
       "4           2011  FEMALE  HISPANIC              GRACE     36    53"
      ]
     },
     "execution_count": 17,
     "metadata": {},
     "output_type": "execute_result"
    }
   ],
   "source": [
    "url = \"https://data.cityofnewyork.us/api/views/25th-nujf/rows.csv?accessType=DOWNLOAD\"\n",
    "baby_names = pd.read_csv(url)\n",
    "baby_names.head()"
   ]
  },
  {
   "cell_type": "code",
   "execution_count": 18,
   "metadata": {},
   "outputs": [],
   "source": [
    "girls = baby_names[baby_names[\"Gender\"] == \"FEMALE\"]\n",
    "boys = baby_names[baby_names[\"Gender\"] == \"MALE\"]"
   ]
  },
  {
   "cell_type": "code",
   "execution_count": 19,
   "metadata": {},
   "outputs": [
    {
     "data": {
      "text/html": [
       "<div>\n",
       "<style scoped>\n",
       "    .dataframe tbody tr th:only-of-type {\n",
       "        vertical-align: middle;\n",
       "    }\n",
       "\n",
       "    .dataframe tbody tr th {\n",
       "        vertical-align: top;\n",
       "    }\n",
       "\n",
       "    .dataframe thead th {\n",
       "        text-align: right;\n",
       "    }\n",
       "</style>\n",
       "<table border=\"1\" class=\"dataframe\">\n",
       "  <thead>\n",
       "    <tr style=\"text-align: right;\">\n",
       "      <th></th>\n",
       "      <th>Year of Birth</th>\n",
       "      <th>Gender</th>\n",
       "      <th>Ethnicity</th>\n",
       "      <th>Child's First Name</th>\n",
       "      <th>Count</th>\n",
       "      <th>Rank</th>\n",
       "    </tr>\n",
       "  </thead>\n",
       "  <tbody>\n",
       "    <tr>\n",
       "      <th>0</th>\n",
       "      <td>2011</td>\n",
       "      <td>FEMALE</td>\n",
       "      <td>HISPANIC</td>\n",
       "      <td>GERALDINE</td>\n",
       "      <td>13</td>\n",
       "      <td>75</td>\n",
       "    </tr>\n",
       "    <tr>\n",
       "      <th>1</th>\n",
       "      <td>2011</td>\n",
       "      <td>FEMALE</td>\n",
       "      <td>HISPANIC</td>\n",
       "      <td>GIA</td>\n",
       "      <td>21</td>\n",
       "      <td>67</td>\n",
       "    </tr>\n",
       "    <tr>\n",
       "      <th>2</th>\n",
       "      <td>2011</td>\n",
       "      <td>FEMALE</td>\n",
       "      <td>HISPANIC</td>\n",
       "      <td>GIANNA</td>\n",
       "      <td>49</td>\n",
       "      <td>42</td>\n",
       "    </tr>\n",
       "    <tr>\n",
       "      <th>3</th>\n",
       "      <td>2011</td>\n",
       "      <td>FEMALE</td>\n",
       "      <td>HISPANIC</td>\n",
       "      <td>GISELLE</td>\n",
       "      <td>38</td>\n",
       "      <td>51</td>\n",
       "    </tr>\n",
       "    <tr>\n",
       "      <th>4</th>\n",
       "      <td>2011</td>\n",
       "      <td>FEMALE</td>\n",
       "      <td>HISPANIC</td>\n",
       "      <td>GRACE</td>\n",
       "      <td>36</td>\n",
       "      <td>53</td>\n",
       "    </tr>\n",
       "  </tbody>\n",
       "</table>\n",
       "</div>"
      ],
      "text/plain": [
       "   Year of Birth  Gender Ethnicity Child's First Name  Count  Rank\n",
       "0           2011  FEMALE  HISPANIC          GERALDINE     13    75\n",
       "1           2011  FEMALE  HISPANIC                GIA     21    67\n",
       "2           2011  FEMALE  HISPANIC             GIANNA     49    42\n",
       "3           2011  FEMALE  HISPANIC            GISELLE     38    51\n",
       "4           2011  FEMALE  HISPANIC              GRACE     36    53"
      ]
     },
     "execution_count": 19,
     "metadata": {},
     "output_type": "execute_result"
    }
   ],
   "source": [
    "girls.head()"
   ]
  },
  {
   "cell_type": "code",
   "execution_count": 20,
   "metadata": {},
   "outputs": [
    {
     "data": {
      "text/html": [
       "<div>\n",
       "<style scoped>\n",
       "    .dataframe tbody tr th:only-of-type {\n",
       "        vertical-align: middle;\n",
       "    }\n",
       "\n",
       "    .dataframe tbody tr th {\n",
       "        vertical-align: top;\n",
       "    }\n",
       "\n",
       "    .dataframe thead th {\n",
       "        text-align: right;\n",
       "    }\n",
       "</style>\n",
       "<table border=\"1\" class=\"dataframe\">\n",
       "  <thead>\n",
       "    <tr style=\"text-align: right;\">\n",
       "      <th></th>\n",
       "      <th>Year of Birth</th>\n",
       "      <th>Gender</th>\n",
       "      <th>Ethnicity</th>\n",
       "      <th>Child's First Name</th>\n",
       "      <th>Count</th>\n",
       "      <th>Rank</th>\n",
       "    </tr>\n",
       "  </thead>\n",
       "  <tbody>\n",
       "    <tr>\n",
       "      <th>545</th>\n",
       "      <td>2011</td>\n",
       "      <td>MALE</td>\n",
       "      <td>ASIAN AND PACIFIC ISLANDER</td>\n",
       "      <td>AARAV</td>\n",
       "      <td>15</td>\n",
       "      <td>51</td>\n",
       "    </tr>\n",
       "    <tr>\n",
       "      <th>546</th>\n",
       "      <td>2011</td>\n",
       "      <td>MALE</td>\n",
       "      <td>ASIAN AND PACIFIC ISLANDER</td>\n",
       "      <td>AARON</td>\n",
       "      <td>51</td>\n",
       "      <td>19</td>\n",
       "    </tr>\n",
       "    <tr>\n",
       "      <th>547</th>\n",
       "      <td>2011</td>\n",
       "      <td>MALE</td>\n",
       "      <td>ASIAN AND PACIFIC ISLANDER</td>\n",
       "      <td>ABDUL</td>\n",
       "      <td>20</td>\n",
       "      <td>46</td>\n",
       "    </tr>\n",
       "    <tr>\n",
       "      <th>548</th>\n",
       "      <td>2011</td>\n",
       "      <td>MALE</td>\n",
       "      <td>ASIAN AND PACIFIC ISLANDER</td>\n",
       "      <td>ABDULLAH</td>\n",
       "      <td>30</td>\n",
       "      <td>36</td>\n",
       "    </tr>\n",
       "    <tr>\n",
       "      <th>549</th>\n",
       "      <td>2011</td>\n",
       "      <td>MALE</td>\n",
       "      <td>ASIAN AND PACIFIC ISLANDER</td>\n",
       "      <td>ADAM</td>\n",
       "      <td>28</td>\n",
       "      <td>38</td>\n",
       "    </tr>\n",
       "  </tbody>\n",
       "</table>\n",
       "</div>"
      ],
      "text/plain": [
       "     Year of Birth Gender                   Ethnicity Child's First Name  \\\n",
       "545           2011   MALE  ASIAN AND PACIFIC ISLANDER              AARAV   \n",
       "546           2011   MALE  ASIAN AND PACIFIC ISLANDER              AARON   \n",
       "547           2011   MALE  ASIAN AND PACIFIC ISLANDER              ABDUL   \n",
       "548           2011   MALE  ASIAN AND PACIFIC ISLANDER           ABDULLAH   \n",
       "549           2011   MALE  ASIAN AND PACIFIC ISLANDER               ADAM   \n",
       "\n",
       "     Count  Rank  \n",
       "545     15    51  \n",
       "546     51    19  \n",
       "547     20    46  \n",
       "548     30    36  \n",
       "549     28    38  "
      ]
     },
     "execution_count": 20,
     "metadata": {},
     "output_type": "execute_result"
    }
   ],
   "source": [
    "boys.head()"
   ]
  },
  {
   "cell_type": "code",
   "execution_count": 21,
   "metadata": {},
   "outputs": [],
   "source": [
    "excel_file = pd.ExcelWriter(\"Baby_Names.xlsx\")"
   ]
  },
  {
   "cell_type": "code",
   "execution_count": 22,
   "metadata": {},
   "outputs": [],
   "source": [
    "girls.to_excel(excel_file, sheet_name = \"Girls\", index = False)"
   ]
  },
  {
   "cell_type": "code",
   "execution_count": 23,
   "metadata": {},
   "outputs": [],
   "source": [
    "boys.to_excel(excel_file, sheet_name = \"Boys\", index = False, columns = [\"Year of Birth\",\"Gender\",\"Ethnicity\"])"
   ]
  },
  {
   "cell_type": "code",
   "execution_count": 24,
   "metadata": {},
   "outputs": [],
   "source": [
    "# \"save\" method should be called on an ExcelWriter object to create the workbook:\n",
    "\n",
    "excel_file.save()"
   ]
  },
  {
   "cell_type": "markdown",
   "metadata": {},
   "source": [
    "### to Load JSON String into Pandas DataFrame"
   ]
  },
  {
   "cell_type": "markdown",
   "metadata": {},
   "source": [
    "https://pandas.pydata.org/pandas-docs/stable/reference/api/pandas.DataFrame.to_json.html "
   ]
  },
  {
   "cell_type": "code",
   "execution_count": 25,
   "metadata": {},
   "outputs": [
    {
     "data": {
      "text/html": [
       "<div>\n",
       "<style scoped>\n",
       "    .dataframe tbody tr th:only-of-type {\n",
       "        vertical-align: middle;\n",
       "    }\n",
       "\n",
       "    .dataframe tbody tr th {\n",
       "        vertical-align: top;\n",
       "    }\n",
       "\n",
       "    .dataframe thead th {\n",
       "        text-align: right;\n",
       "    }\n",
       "</style>\n",
       "<table border=\"1\" class=\"dataframe\">\n",
       "  <thead>\n",
       "    <tr style=\"text-align: right;\">\n",
       "      <th></th>\n",
       "      <th>Product</th>\n",
       "      <th>Price</th>\n",
       "    </tr>\n",
       "  </thead>\n",
       "  <tbody>\n",
       "    <tr>\n",
       "      <th>0</th>\n",
       "      <td>Desktop Computer</td>\n",
       "      <td>700</td>\n",
       "    </tr>\n",
       "    <tr>\n",
       "      <th>1</th>\n",
       "      <td>Tablet</td>\n",
       "      <td>250</td>\n",
       "    </tr>\n",
       "    <tr>\n",
       "      <th>2</th>\n",
       "      <td>iPhone</td>\n",
       "      <td>800</td>\n",
       "    </tr>\n",
       "    <tr>\n",
       "      <th>3</th>\n",
       "      <td>Laptop</td>\n",
       "      <td>1200</td>\n",
       "    </tr>\n",
       "  </tbody>\n",
       "</table>\n",
       "</div>"
      ],
      "text/plain": [
       "            Product  Price\n",
       "0  Desktop Computer    700\n",
       "1            Tablet    250\n",
       "2            iPhone    800\n",
       "3            Laptop   1200"
      ]
     },
     "execution_count": 25,
     "metadata": {},
     "output_type": "execute_result"
    }
   ],
   "source": [
    "mask = pd.read_json (r\"files/json_example.json\")\n",
    "mask"
   ]
  },
  {
   "cell_type": "markdown",
   "metadata": {},
   "source": [
    "### to Create JSON Object in Pandas"
   ]
  },
  {
   "cell_type": "code",
   "execution_count": 26,
   "metadata": {},
   "outputs": [
    {
     "data": {
      "text/html": [
       "<div>\n",
       "<style scoped>\n",
       "    .dataframe tbody tr th:only-of-type {\n",
       "        vertical-align: middle;\n",
       "    }\n",
       "\n",
       "    .dataframe tbody tr th {\n",
       "        vertical-align: top;\n",
       "    }\n",
       "\n",
       "    .dataframe thead th {\n",
       "        text-align: right;\n",
       "    }\n",
       "</style>\n",
       "<table border=\"1\" class=\"dataframe\">\n",
       "  <thead>\n",
       "    <tr style=\"text-align: right;\">\n",
       "      <th></th>\n",
       "      <th>Product</th>\n",
       "      <th>Price</th>\n",
       "    </tr>\n",
       "  </thead>\n",
       "  <tbody>\n",
       "    <tr>\n",
       "      <th>0</th>\n",
       "      <td>Desktop Computer</td>\n",
       "      <td>700</td>\n",
       "    </tr>\n",
       "    <tr>\n",
       "      <th>1</th>\n",
       "      <td>Tablet</td>\n",
       "      <td>250</td>\n",
       "    </tr>\n",
       "    <tr>\n",
       "      <th>2</th>\n",
       "      <td>iPhone</td>\n",
       "      <td>800</td>\n",
       "    </tr>\n",
       "    <tr>\n",
       "      <th>3</th>\n",
       "      <td>Laptop</td>\n",
       "      <td>1200</td>\n",
       "    </tr>\n",
       "  </tbody>\n",
       "</table>\n",
       "</div>"
      ],
      "text/plain": [
       "            Product  Price\n",
       "0  Desktop Computer    700\n",
       "1            Tablet    250\n",
       "2            iPhone    800\n",
       "3            Laptop   1200"
      ]
     },
     "execution_count": 26,
     "metadata": {},
     "output_type": "execute_result"
    }
   ],
   "source": [
    "a = {\"Product\":{\"0\":\"Desktop Computer\",\"1\":\"Tablet\",\"2\":\"iPhone\",\"3\":\"Laptop\"},\"Price\":{\"0\":700,\"1\":250,\"2\":800,\"3\":1200}}\n",
    "pd.DataFrame.from_dict(a)"
   ]
  },
  {
   "cell_type": "code",
   "execution_count": 27,
   "metadata": {},
   "outputs": [],
   "source": [
    "df = pd.DataFrame(\n",
    "    [[\"a\", \"b\"], [\"c\", \"d\"]],\n",
    "    index=[\"row 1\", \"row 2\"],\n",
    "    columns=[\"col 1\", \"col 2\"],\n",
    ")"
   ]
  },
  {
   "cell_type": "code",
   "execution_count": 28,
   "metadata": {},
   "outputs": [
    {
     "data": {
      "text/html": [
       "<div>\n",
       "<style scoped>\n",
       "    .dataframe tbody tr th:only-of-type {\n",
       "        vertical-align: middle;\n",
       "    }\n",
       "\n",
       "    .dataframe tbody tr th {\n",
       "        vertical-align: top;\n",
       "    }\n",
       "\n",
       "    .dataframe thead th {\n",
       "        text-align: right;\n",
       "    }\n",
       "</style>\n",
       "<table border=\"1\" class=\"dataframe\">\n",
       "  <thead>\n",
       "    <tr style=\"text-align: right;\">\n",
       "      <th></th>\n",
       "      <th>col 1</th>\n",
       "      <th>col 2</th>\n",
       "    </tr>\n",
       "  </thead>\n",
       "  <tbody>\n",
       "    <tr>\n",
       "      <th>row 1</th>\n",
       "      <td>a</td>\n",
       "      <td>b</td>\n",
       "    </tr>\n",
       "    <tr>\n",
       "      <th>row 2</th>\n",
       "      <td>c</td>\n",
       "      <td>d</td>\n",
       "    </tr>\n",
       "  </tbody>\n",
       "</table>\n",
       "</div>"
      ],
      "text/plain": [
       "      col 1 col 2\n",
       "row 1     a     b\n",
       "row 2     c     d"
      ]
     },
     "execution_count": 28,
     "metadata": {},
     "output_type": "execute_result"
    }
   ],
   "source": [
    "df"
   ]
  },
  {
   "cell_type": "markdown",
   "metadata": {},
   "source": [
    "### Using PostgreSQL in Python (with Psycopg2)"
   ]
  },
  {
   "cell_type": "code",
   "execution_count": 29,
   "metadata": {},
   "outputs": [],
   "source": [
    "import psycopg2 as pg2"
   ]
  },
  {
   "cell_type": "code",
   "execution_count": 30,
   "metadata": {},
   "outputs": [],
   "source": [
    "# Create a connection with PostgreSQL\n",
    "# 'password' is whatever password you set, we set password in the install video\n",
    "conn = pg2.connect(database='dvdrental', user='postgres',password='....')"
   ]
  },
  {
   "cell_type": "code",
   "execution_count": 31,
   "metadata": {},
   "outputs": [],
   "source": [
    "# Establish connection and start cursor to be ready to query\n",
    "cur = conn.cursor()"
   ]
  },
  {
   "cell_type": "code",
   "execution_count": 32,
   "metadata": {},
   "outputs": [],
   "source": [
    "# Pass in a PostgreSQL query as a string\n",
    "cur.execute(\"Select * From payment\")"
   ]
  },
  {
   "cell_type": "code",
   "execution_count": 33,
   "metadata": {},
   "outputs": [
    {
     "data": {
      "text/plain": [
       "(17503,\n",
       " 341,\n",
       " 2,\n",
       " 1520,\n",
       " Decimal('7.99'),\n",
       " datetime.datetime(2007, 2, 15, 22, 25, 46, 996577))"
      ]
     },
     "execution_count": 33,
     "metadata": {},
     "output_type": "execute_result"
    }
   ],
   "source": [
    "# Return a tuple of the first row as Python objects\n",
    "cur.fetchone()"
   ]
  },
  {
   "cell_type": "code",
   "execution_count": 34,
   "metadata": {},
   "outputs": [
    {
     "data": {
      "text/plain": [
       "[(17504,\n",
       "  341,\n",
       "  1,\n",
       "  1778,\n",
       "  Decimal('1.99'),\n",
       "  datetime.datetime(2007, 2, 16, 17, 23, 14, 996577)),\n",
       " (17505,\n",
       "  341,\n",
       "  1,\n",
       "  1849,\n",
       "  Decimal('7.99'),\n",
       "  datetime.datetime(2007, 2, 16, 22, 41, 45, 996577)),\n",
       " (17506,\n",
       "  341,\n",
       "  2,\n",
       "  2829,\n",
       "  Decimal('2.99'),\n",
       "  datetime.datetime(2007, 2, 19, 19, 39, 56, 996577)),\n",
       " (17507,\n",
       "  341,\n",
       "  2,\n",
       "  3130,\n",
       "  Decimal('7.99'),\n",
       "  datetime.datetime(2007, 2, 20, 17, 31, 48, 996577)),\n",
       " (17508,\n",
       "  341,\n",
       "  1,\n",
       "  3382,\n",
       "  Decimal('5.99'),\n",
       "  datetime.datetime(2007, 2, 21, 12, 33, 49, 996577))]"
      ]
     },
     "execution_count": 34,
     "metadata": {},
     "output_type": "execute_result"
    }
   ],
   "source": [
    "# Return N number of rows as a tuple items\n",
    "data = cur.fetchmany(5)\n",
    "data"
   ]
  },
  {
   "cell_type": "code",
   "execution_count": 35,
   "metadata": {},
   "outputs": [
    {
     "data": {
      "text/plain": [
       "(17504,\n",
       " 341,\n",
       " 1,\n",
       " 1778,\n",
       " Decimal('1.99'),\n",
       " datetime.datetime(2007, 2, 16, 17, 23, 14, 996577))"
      ]
     },
     "execution_count": 35,
     "metadata": {},
     "output_type": "execute_result"
    }
   ],
   "source": [
    "data[0]"
   ]
  },
  {
   "cell_type": "code",
   "execution_count": 36,
   "metadata": {},
   "outputs": [
    {
     "data": {
      "text/plain": [
       "Decimal('1.99')"
      ]
     },
     "execution_count": 36,
     "metadata": {},
     "output_type": "execute_result"
    }
   ],
   "source": [
    "data[0][4]"
   ]
  },
  {
   "cell_type": "code",
   "execution_count": 37,
   "metadata": {},
   "outputs": [],
   "source": [
    "# Return All rows at once\n",
    "cur.fetchall()\n",
    "Output = None"
   ]
  },
  {
   "cell_type": "markdown",
   "metadata": {},
   "source": [
    "### to call data as a dataframe"
   ]
  },
  {
   "cell_type": "code",
   "execution_count": 45,
   "metadata": {},
   "outputs": [
    {
     "data": {
      "text/html": [
       "<div>\n",
       "<style scoped>\n",
       "    .dataframe tbody tr th:only-of-type {\n",
       "        vertical-align: middle;\n",
       "    }\n",
       "\n",
       "    .dataframe tbody tr th {\n",
       "        vertical-align: top;\n",
       "    }\n",
       "\n",
       "    .dataframe thead th {\n",
       "        text-align: right;\n",
       "    }\n",
       "</style>\n",
       "<table border=\"1\" class=\"dataframe\">\n",
       "  <thead>\n",
       "    <tr style=\"text-align: right;\">\n",
       "      <th></th>\n",
       "      <th>payment_id</th>\n",
       "      <th>customer_id</th>\n",
       "      <th>staff_id</th>\n",
       "      <th>rental_id</th>\n",
       "      <th>amount</th>\n",
       "      <th>payment_date</th>\n",
       "    </tr>\n",
       "  </thead>\n",
       "  <tbody>\n",
       "    <tr>\n",
       "      <th>0</th>\n",
       "      <td>17503</td>\n",
       "      <td>341</td>\n",
       "      <td>2</td>\n",
       "      <td>1520</td>\n",
       "      <td>7.99</td>\n",
       "      <td>2007-02-15 22:25:46.996577</td>\n",
       "    </tr>\n",
       "    <tr>\n",
       "      <th>1</th>\n",
       "      <td>17504</td>\n",
       "      <td>341</td>\n",
       "      <td>1</td>\n",
       "      <td>1778</td>\n",
       "      <td>1.99</td>\n",
       "      <td>2007-02-16 17:23:14.996577</td>\n",
       "    </tr>\n",
       "    <tr>\n",
       "      <th>2</th>\n",
       "      <td>17505</td>\n",
       "      <td>341</td>\n",
       "      <td>1</td>\n",
       "      <td>1849</td>\n",
       "      <td>7.99</td>\n",
       "      <td>2007-02-16 22:41:45.996577</td>\n",
       "    </tr>\n",
       "    <tr>\n",
       "      <th>3</th>\n",
       "      <td>17506</td>\n",
       "      <td>341</td>\n",
       "      <td>2</td>\n",
       "      <td>2829</td>\n",
       "      <td>2.99</td>\n",
       "      <td>2007-02-19 19:39:56.996577</td>\n",
       "    </tr>\n",
       "    <tr>\n",
       "      <th>4</th>\n",
       "      <td>17507</td>\n",
       "      <td>341</td>\n",
       "      <td>2</td>\n",
       "      <td>3130</td>\n",
       "      <td>7.99</td>\n",
       "      <td>2007-02-20 17:31:48.996577</td>\n",
       "    </tr>\n",
       "  </tbody>\n",
       "</table>\n",
       "</div>"
      ],
      "text/plain": [
       "   payment_id  customer_id  staff_id  rental_id amount  \\\n",
       "0       17503          341         2       1520   7.99   \n",
       "1       17504          341         1       1778   1.99   \n",
       "2       17505          341         1       1849   7.99   \n",
       "3       17506          341         2       2829   2.99   \n",
       "4       17507          341         2       3130   7.99   \n",
       "\n",
       "                payment_date  \n",
       "0 2007-02-15 22:25:46.996577  \n",
       "1 2007-02-16 17:23:14.996577  \n",
       "2 2007-02-16 22:41:45.996577  \n",
       "3 2007-02-19 19:39:56.996577  \n",
       "4 2007-02-20 17:31:48.996577  "
      ]
     },
     "execution_count": 45,
     "metadata": {},
     "output_type": "execute_result"
    }
   ],
   "source": [
    "conn = pg2.connect(database='dvdrental', user='postgres',password='...')\n",
    "cur = conn.cursor()\n",
    "cur.execute(\"Select * From payment\")\n",
    "tmp = cur.fetchall() #to call all data in to pyhton\n",
    "col_names = [] #emty list object to store column names\n",
    "for x in cur.description: #looping true cursor to get column names \n",
    "    col_names.append(x[0])\n",
    "conn.close()    \n",
    "df = pd.DataFrame(tmp, columns=col_names) #we read it as a dataframe\n",
    "df.head()"
   ]
  },
  {
   "cell_type": "code",
   "execution_count": 59,
   "metadata": {},
   "outputs": [],
   "source": [
    "def postgresql_read(db_name,sql_query,user_password, user_name='postgres'):\n",
    "    \"\"\"\n",
    "    This function will read database name and query and return a data frame.\n",
    "    \"\"\"\n",
    "    conn = pg2.connect(database=db_name, user=user_name,password=user_password)\n",
    "    cur = conn.cursor()\n",
    "    cur.execute(sql_query)\n",
    "    tmp = cur.fetchall() #to call all data in to pyhton\n",
    "    col_names = [] #emty list object to store column names\n",
    "    for x in cur.description: #looping true cursor to get column names \n",
    "        col_names.append(x[0])\n",
    "    conn.close()    \n",
    "    df = pd.DataFrame(tmp, columns=col_names) #we read it as a dataframe\n",
    "    \n",
    "    return df"
   ]
  },
  {
   "cell_type": "code",
   "execution_count": 57,
   "metadata": {},
   "outputs": [
    {
     "data": {
      "text/html": [
       "<div>\n",
       "<style scoped>\n",
       "    .dataframe tbody tr th:only-of-type {\n",
       "        vertical-align: middle;\n",
       "    }\n",
       "\n",
       "    .dataframe tbody tr th {\n",
       "        vertical-align: top;\n",
       "    }\n",
       "\n",
       "    .dataframe thead th {\n",
       "        text-align: right;\n",
       "    }\n",
       "</style>\n",
       "<table border=\"1\" class=\"dataframe\">\n",
       "  <thead>\n",
       "    <tr style=\"text-align: right;\">\n",
       "      <th></th>\n",
       "      <th>payment_id</th>\n",
       "      <th>customer_id</th>\n",
       "      <th>staff_id</th>\n",
       "      <th>rental_id</th>\n",
       "      <th>amount</th>\n",
       "      <th>payment_date</th>\n",
       "    </tr>\n",
       "  </thead>\n",
       "  <tbody>\n",
       "    <tr>\n",
       "      <th>0</th>\n",
       "      <td>17503</td>\n",
       "      <td>341</td>\n",
       "      <td>2</td>\n",
       "      <td>1520</td>\n",
       "      <td>7.99</td>\n",
       "      <td>2007-02-15 22:25:46.996577</td>\n",
       "    </tr>\n",
       "    <tr>\n",
       "      <th>1</th>\n",
       "      <td>17504</td>\n",
       "      <td>341</td>\n",
       "      <td>1</td>\n",
       "      <td>1778</td>\n",
       "      <td>1.99</td>\n",
       "      <td>2007-02-16 17:23:14.996577</td>\n",
       "    </tr>\n",
       "    <tr>\n",
       "      <th>2</th>\n",
       "      <td>17505</td>\n",
       "      <td>341</td>\n",
       "      <td>1</td>\n",
       "      <td>1849</td>\n",
       "      <td>7.99</td>\n",
       "      <td>2007-02-16 22:41:45.996577</td>\n",
       "    </tr>\n",
       "    <tr>\n",
       "      <th>3</th>\n",
       "      <td>17506</td>\n",
       "      <td>341</td>\n",
       "      <td>2</td>\n",
       "      <td>2829</td>\n",
       "      <td>2.99</td>\n",
       "      <td>2007-02-19 19:39:56.996577</td>\n",
       "    </tr>\n",
       "    <tr>\n",
       "      <th>4</th>\n",
       "      <td>17507</td>\n",
       "      <td>341</td>\n",
       "      <td>2</td>\n",
       "      <td>3130</td>\n",
       "      <td>7.99</td>\n",
       "      <td>2007-02-20 17:31:48.996577</td>\n",
       "    </tr>\n",
       "  </tbody>\n",
       "</table>\n",
       "</div>"
      ],
      "text/plain": [
       "   payment_id  customer_id  staff_id  rental_id amount  \\\n",
       "0       17503          341         2       1520   7.99   \n",
       "1       17504          341         1       1778   1.99   \n",
       "2       17505          341         1       1849   7.99   \n",
       "3       17506          341         2       2829   2.99   \n",
       "4       17507          341         2       3130   7.99   \n",
       "\n",
       "                payment_date  \n",
       "0 2007-02-15 22:25:46.996577  \n",
       "1 2007-02-16 17:23:14.996577  \n",
       "2 2007-02-16 22:41:45.996577  \n",
       "3 2007-02-19 19:39:56.996577  \n",
       "4 2007-02-20 17:31:48.996577  "
      ]
     },
     "execution_count": 57,
     "metadata": {},
     "output_type": "execute_result"
    }
   ],
   "source": [
    "sql_query = 'select * from payment'\n",
    "user = 'postgres'\n",
    "passwrd = '....'\n",
    "df_1 = postgresql_read(db_name='dvdrental', sql_query=sql_query,user_password=passwrd,user_name=user)\n",
    "df_1.head()"
   ]
  },
  {
   "cell_type": "code",
   "execution_count": 60,
   "metadata": {},
   "outputs": [
    {
     "data": {
      "text/html": [
       "<div>\n",
       "<style scoped>\n",
       "    .dataframe tbody tr th:only-of-type {\n",
       "        vertical-align: middle;\n",
       "    }\n",
       "\n",
       "    .dataframe tbody tr th {\n",
       "        vertical-align: top;\n",
       "    }\n",
       "\n",
       "    .dataframe thead th {\n",
       "        text-align: right;\n",
       "    }\n",
       "</style>\n",
       "<table border=\"1\" class=\"dataframe\">\n",
       "  <thead>\n",
       "    <tr style=\"text-align: right;\">\n",
       "      <th></th>\n",
       "      <th>customerid</th>\n",
       "      <th>r</th>\n",
       "      <th>f</th>\n",
       "      <th>m</th>\n",
       "      <th>r_bucket</th>\n",
       "      <th>f_bucket</th>\n",
       "      <th>m_bucket</th>\n",
       "      <th>total_rfm_score</th>\n",
       "    </tr>\n",
       "  </thead>\n",
       "  <tbody>\n",
       "    <tr>\n",
       "      <th>0</th>\n",
       "      <td>12346</td>\n",
       "      <td>325</td>\n",
       "      <td>2</td>\n",
       "      <td>77183.60</td>\n",
       "      <td>2</td>\n",
       "      <td>1</td>\n",
       "      <td>2</td>\n",
       "      <td>5</td>\n",
       "    </tr>\n",
       "    <tr>\n",
       "      <th>1</th>\n",
       "      <td>12347</td>\n",
       "      <td>2</td>\n",
       "      <td>7</td>\n",
       "      <td>4310.00</td>\n",
       "      <td>5</td>\n",
       "      <td>1</td>\n",
       "      <td>1</td>\n",
       "      <td>7</td>\n",
       "    </tr>\n",
       "    <tr>\n",
       "      <th>2</th>\n",
       "      <td>12348</td>\n",
       "      <td>75</td>\n",
       "      <td>4</td>\n",
       "      <td>1797.24</td>\n",
       "      <td>5</td>\n",
       "      <td>1</td>\n",
       "      <td>1</td>\n",
       "      <td>7</td>\n",
       "    </tr>\n",
       "    <tr>\n",
       "      <th>3</th>\n",
       "      <td>12349</td>\n",
       "      <td>18</td>\n",
       "      <td>1</td>\n",
       "      <td>1757.55</td>\n",
       "      <td>5</td>\n",
       "      <td>1</td>\n",
       "      <td>1</td>\n",
       "      <td>7</td>\n",
       "    </tr>\n",
       "    <tr>\n",
       "      <th>4</th>\n",
       "      <td>12350</td>\n",
       "      <td>310</td>\n",
       "      <td>1</td>\n",
       "      <td>334.40</td>\n",
       "      <td>2</td>\n",
       "      <td>1</td>\n",
       "      <td>1</td>\n",
       "      <td>4</td>\n",
       "    </tr>\n",
       "  </tbody>\n",
       "</table>\n",
       "</div>"
      ],
      "text/plain": [
       "   customerid    r  f         m  r_bucket  f_bucket  m_bucket  total_rfm_score\n",
       "0       12346  325  2  77183.60         2         1         2                5\n",
       "1       12347    2  7   4310.00         5         1         1                7\n",
       "2       12348   75  4   1797.24         5         1         1                7\n",
       "3       12349   18  1   1757.55         5         1         1                7\n",
       "4       12350  310  1    334.40         2         1         1                4"
      ]
     },
     "execution_count": 60,
     "metadata": {},
     "output_type": "execute_result"
    }
   ],
   "source": [
    "sql_query_1 = 'select * from rfm_bucket'\n",
    "passwrd = '...'\n",
    "df_2 = postgresql_read(db_name='online_retail', sql_query=sql_query_1,user_password=passwrd)\n",
    "df_2.head()"
   ]
  },
  {
   "cell_type": "markdown",
   "metadata": {},
   "source": [
    "### Inserting Information"
   ]
  },
  {
   "cell_type": "code",
   "execution_count": 64,
   "metadata": {},
   "outputs": [],
   "source": [
    "query1 = '''\n",
    "        CREATE TABLE new_table_3 (\n",
    "            userid integer\n",
    "            , tmstmp timestamp\n",
    "            , type varchar(10)\n",
    "        );\n",
    "        '''"
   ]
  },
  {
   "cell_type": "code",
   "execution_count": 65,
   "metadata": {},
   "outputs": [],
   "source": [
    "conn = pg2.connect(database='dvdrental', user='postgres',password='....')\n",
    "cur = conn.cursor()\n",
    "cur.execute(query1)\n"
   ]
  },
  {
   "cell_type": "code",
   "execution_count": null,
   "metadata": {},
   "outputs": [],
   "source": [
    "# commit the changes to the database\n",
    "conn.commit()"
   ]
  },
  {
   "cell_type": "code",
   "execution_count": null,
   "metadata": {},
   "outputs": [],
   "source": [
    "# Don't forget to close the connection!\n",
    "# killing the kernel or shutting down juptyer will also close it\n",
    "conn.close()"
   ]
  },
  {
   "cell_type": "code",
   "execution_count": null,
   "metadata": {},
   "outputs": [],
   "source": []
  }
 ],
 "metadata": {
  "kernelspec": {
   "display_name": "Python 3",
   "language": "python",
   "name": "python3"
  },
  "language_info": {
   "codemirror_mode": {
    "name": "ipython",
    "version": 3
   },
   "file_extension": ".py",
   "mimetype": "text/x-python",
   "name": "python",
   "nbconvert_exporter": "python",
   "pygments_lexer": "ipython3",
   "version": "3.9.1"
  }
 },
 "nbformat": 4,
 "nbformat_minor": 4
}
